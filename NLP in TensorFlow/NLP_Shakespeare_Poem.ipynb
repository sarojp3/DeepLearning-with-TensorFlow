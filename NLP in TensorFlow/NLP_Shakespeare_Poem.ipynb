{
  "nbformat": 4,
  "nbformat_minor": 0,
  "metadata": {
    "accelerator": "GPU",
    "colab": {
      "name": "NLP_Week4_Exercise_Shakespeare_Question.ipynb",
      "provenance": [],
      "toc_visible": true
    },
    "kernelspec": {
      "display_name": "Python 3",
      "name": "python3"
    }
  },
  "cells": [
    {
      "cell_type": "code",
      "metadata": {
        "id": "zX4Kg8DUTKWO",
        "colab_type": "code",
        "colab": {}
      },
      "source": [
        "#@title Licensed under the Apache License, Version 2.0 (the \"License\");\n",
        "# you may not use this file except in compliance with the License.\n",
        "# You may obtain a copy of the License at\n",
        "#\n",
        "# https://www.apache.org/licenses/LICENSE-2.0\n",
        "#\n",
        "# Unless required by applicable law or agreed to in writing, software\n",
        "# distributed under the License is distributed on an \"AS IS\" BASIS,\n",
        "# WITHOUT WARRANTIES OR CONDITIONS OF ANY KIND, either express or implied.\n",
        "# See the License for the specific language governing permissions and\n",
        "# limitations under the License."
      ],
      "execution_count": null,
      "outputs": []
    },
    {
      "cell_type": "code",
      "metadata": {
        "colab_type": "code",
        "id": "BOwsuGQQY9OL",
        "colab": {}
      },
      "source": [
        "from tensorflow.keras.preprocessing.sequence import pad_sequences\n",
        "from tensorflow.keras.layers import Embedding, LSTM, Dense, Dropout, Bidirectional\n",
        "from tensorflow.keras.preprocessing.text import Tokenizer\n",
        "from tensorflow.keras.models import Sequential\n",
        "from tensorflow.keras.optimizers import Adam\n",
        "### YOUR CODE HERE\n",
        "from tensorflow.keras.regularizers import Regularizer\n",
        "# Figure out how to import regularizers\n",
        "###\n",
        "import tensorflow.keras.utils as ku \n",
        "import numpy as np "
      ],
      "execution_count": 1,
      "outputs": []
    },
    {
      "cell_type": "code",
      "metadata": {
        "colab_type": "code",
        "id": "PRnDnCW-Z7qv",
        "colab": {
          "base_uri": "https://localhost:8080/",
          "height": 204
        },
        "outputId": "1ce92e97-6fdf-4f04-c70f-8155eff03fe2"
      },
      "source": [
        "tokenizer = Tokenizer()\n",
        "!wget --no-check-certificate \\\n",
        "    https://storage.googleapis.com/laurencemoroney-blog.appspot.com/sonnets.txt \\\n",
        "    -O /tmp/sonnets.txt\n",
        "data = open('/tmp/sonnets.txt').read()\n",
        "\n",
        "corpus = data.lower().split(\"\\n\")\n",
        "\n",
        "\n",
        "tokenizer.fit_on_texts(corpus)\n",
        "total_words = len(tokenizer.word_index) + 1\n",
        "\n",
        "# create input sequences using list of tokens\n",
        "input_sequences = []\n",
        "for line in corpus:\n",
        "\ttoken_list = tokenizer.texts_to_sequences([line])[0]\n",
        "\tfor i in range(1, len(token_list)):\n",
        "\t\tn_gram_sequence = token_list[:i+1]\n",
        "\t\tinput_sequences.append(n_gram_sequence)\n",
        "\n",
        "\n",
        "# pad sequences \n",
        "max_sequence_len = max([len(x) for x in input_sequences])\n",
        "input_sequences = np.array(pad_sequences(input_sequences, maxlen=max_sequence_len, padding='pre'))\n",
        "\n",
        "# create predictors and label\n",
        "predictors, label = input_sequences[:,:-1],input_sequences[:,-1]\n",
        "\n",
        "label = ku.to_categorical(label, num_classes=total_words)"
      ],
      "execution_count": 2,
      "outputs": [
        {
          "output_type": "stream",
          "text": [
            "--2020-09-10 11:28:25--  https://storage.googleapis.com/laurencemoroney-blog.appspot.com/sonnets.txt\n",
            "Resolving storage.googleapis.com (storage.googleapis.com)... 64.233.188.128, 108.177.97.128, 108.177.125.128, ...\n",
            "Connecting to storage.googleapis.com (storage.googleapis.com)|64.233.188.128|:443... connected.\n",
            "HTTP request sent, awaiting response... 200 OK\n",
            "Length: 93578 (91K) [text/plain]\n",
            "Saving to: ‘/tmp/sonnets.txt’\n",
            "\n",
            "/tmp/sonnets.txt    100%[===================>]  91.38K  --.-KB/s    in 0.001s  \n",
            "\n",
            "2020-09-10 11:28:26 (102 MB/s) - ‘/tmp/sonnets.txt’ saved [93578/93578]\n",
            "\n"
          ],
          "name": "stdout"
        }
      ]
    },
    {
      "cell_type": "code",
      "metadata": {
        "colab_type": "code",
        "id": "w9vH8Y59ajYL",
        "colab": {
          "base_uri": "https://localhost:8080/",
          "height": 374
        },
        "outputId": "78711f1b-59f7-4ab8-da55-23bb0264a773"
      },
      "source": [
        "model = Sequential()\n",
        "model.add(Embedding(total_words, 100, input_length=max_sequence_len-1)) # Embedding Layer \n",
        "model.add(Bidirectional(LSTM(150,return_sequences=True)))\n",
        "model.add(Dropout(0.2)) \n",
        "model.add(LSTM(100))  #LSTM layer with 100 blocks\n",
        "model.add(Dense(total_words/2,activation='relu'))  # A Dense Layer including regularizers\n",
        "model.add(Dense(total_words,activation='softmax'))\n",
        "# Pick an optimizer\n",
        "model.compile(optimizer='Adam',loss='categorical_crossentropy',metrics=['accuracy'])\n",
        "print(model.summary())\n"
      ],
      "execution_count": 13,
      "outputs": [
        {
          "output_type": "stream",
          "text": [
            "Model: \"sequential_5\"\n",
            "_________________________________________________________________\n",
            "Layer (type)                 Output Shape              Param #   \n",
            "=================================================================\n",
            "embedding_5 (Embedding)      (None, 10, 100)           321100    \n",
            "_________________________________________________________________\n",
            "bidirectional_5 (Bidirection (None, 10, 300)           301200    \n",
            "_________________________________________________________________\n",
            "dropout_5 (Dropout)          (None, 10, 300)           0         \n",
            "_________________________________________________________________\n",
            "lstm_11 (LSTM)               (None, 100)               160400    \n",
            "_________________________________________________________________\n",
            "dense_8 (Dense)              (None, 1605)              162105    \n",
            "_________________________________________________________________\n",
            "dense_9 (Dense)              (None, 3211)              5156866   \n",
            "=================================================================\n",
            "Total params: 6,101,671\n",
            "Trainable params: 6,101,671\n",
            "Non-trainable params: 0\n",
            "_________________________________________________________________\n",
            "None\n"
          ],
          "name": "stdout"
        }
      ]
    },
    {
      "cell_type": "code",
      "metadata": {
        "colab_type": "code",
        "id": "AIg2f1HBxqof",
        "colab": {
          "base_uri": "https://localhost:8080/",
          "height": 1000
        },
        "outputId": "99e5624b-b5ab-45dc-addd-3b024b96b59f"
      },
      "source": [
        " history = model.fit(predictors, label, epochs=50, verbose=1)"
      ],
      "execution_count": 14,
      "outputs": [
        {
          "output_type": "stream",
          "text": [
            "Epoch 1/50\n",
            "484/484 [==============================] - 13s 26ms/step - loss: 6.7972 - accuracy: 0.0244\n",
            "Epoch 2/50\n",
            "484/484 [==============================] - 12s 26ms/step - loss: 6.4165 - accuracy: 0.0325\n",
            "Epoch 3/50\n",
            "484/484 [==============================] - 12s 26ms/step - loss: 6.1935 - accuracy: 0.0367\n",
            "Epoch 4/50\n",
            "484/484 [==============================] - 12s 26ms/step - loss: 5.9831 - accuracy: 0.0414\n",
            "Epoch 5/50\n",
            "484/484 [==============================] - 13s 26ms/step - loss: 5.7586 - accuracy: 0.0478\n",
            "Epoch 6/50\n",
            "484/484 [==============================] - 13s 26ms/step - loss: 5.5278 - accuracy: 0.0579\n",
            "Epoch 7/50\n",
            "484/484 [==============================] - 12s 26ms/step - loss: 5.3083 - accuracy: 0.0697\n",
            "Epoch 8/50\n",
            "484/484 [==============================] - 12s 26ms/step - loss: 5.0855 - accuracy: 0.0790\n",
            "Epoch 9/50\n",
            "484/484 [==============================] - 12s 26ms/step - loss: 4.8548 - accuracy: 0.0949\n",
            "Epoch 10/50\n",
            "484/484 [==============================] - 13s 26ms/step - loss: 4.6084 - accuracy: 0.1139\n",
            "Epoch 11/50\n",
            "484/484 [==============================] - 12s 26ms/step - loss: 4.3416 - accuracy: 0.1330\n",
            "Epoch 12/50\n",
            "484/484 [==============================] - 12s 26ms/step - loss: 4.0484 - accuracy: 0.1608\n",
            "Epoch 13/50\n",
            "484/484 [==============================] - 13s 26ms/step - loss: 3.7511 - accuracy: 0.1945\n",
            "Epoch 14/50\n",
            "484/484 [==============================] - 12s 26ms/step - loss: 3.4403 - accuracy: 0.2419\n",
            "Epoch 15/50\n",
            "484/484 [==============================] - 12s 26ms/step - loss: 3.1374 - accuracy: 0.2872\n",
            "Epoch 16/50\n",
            "484/484 [==============================] - 12s 26ms/step - loss: 2.8639 - accuracy: 0.3396\n",
            "Epoch 17/50\n",
            "484/484 [==============================] - 12s 26ms/step - loss: 2.6055 - accuracy: 0.3875\n",
            "Epoch 18/50\n",
            "484/484 [==============================] - 12s 26ms/step - loss: 2.3814 - accuracy: 0.4330\n",
            "Epoch 19/50\n",
            "484/484 [==============================] - 12s 26ms/step - loss: 2.1690 - accuracy: 0.4770\n",
            "Epoch 20/50\n",
            "484/484 [==============================] - 12s 26ms/step - loss: 1.9958 - accuracy: 0.5151\n",
            "Epoch 21/50\n",
            "484/484 [==============================] - 12s 26ms/step - loss: 1.8484 - accuracy: 0.5444\n",
            "Epoch 22/50\n",
            "484/484 [==============================] - 12s 26ms/step - loss: 1.7036 - accuracy: 0.5756\n",
            "Epoch 23/50\n",
            "484/484 [==============================] - 12s 26ms/step - loss: 1.5676 - accuracy: 0.6101\n",
            "Epoch 24/50\n",
            "484/484 [==============================] - 12s 25ms/step - loss: 1.4527 - accuracy: 0.6347\n",
            "Epoch 25/50\n",
            "484/484 [==============================] - 13s 26ms/step - loss: 1.3584 - accuracy: 0.6592\n",
            "Epoch 26/50\n",
            "484/484 [==============================] - 12s 26ms/step - loss: 1.2699 - accuracy: 0.6784\n",
            "Epoch 27/50\n",
            "484/484 [==============================] - 12s 26ms/step - loss: 1.1818 - accuracy: 0.7034\n",
            "Epoch 28/50\n",
            "484/484 [==============================] - 12s 26ms/step - loss: 1.1307 - accuracy: 0.7104\n",
            "Epoch 29/50\n",
            "484/484 [==============================] - 12s 25ms/step - loss: 1.0715 - accuracy: 0.7244\n",
            "Epoch 30/50\n",
            "484/484 [==============================] - 12s 25ms/step - loss: 1.0157 - accuracy: 0.7346\n",
            "Epoch 31/50\n",
            "484/484 [==============================] - 13s 26ms/step - loss: 0.9622 - accuracy: 0.7538\n",
            "Epoch 32/50\n",
            "484/484 [==============================] - 12s 26ms/step - loss: 0.9172 - accuracy: 0.7632\n",
            "Epoch 33/50\n",
            "484/484 [==============================] - 12s 26ms/step - loss: 0.8993 - accuracy: 0.7658\n",
            "Epoch 34/50\n",
            "484/484 [==============================] - 12s 26ms/step - loss: 0.8586 - accuracy: 0.7762\n",
            "Epoch 35/50\n",
            "484/484 [==============================] - 12s 26ms/step - loss: 0.8402 - accuracy: 0.7796\n",
            "Epoch 36/50\n",
            "484/484 [==============================] - 12s 26ms/step - loss: 0.7936 - accuracy: 0.7927\n",
            "Epoch 37/50\n",
            "484/484 [==============================] - 12s 26ms/step - loss: 0.7816 - accuracy: 0.7927\n",
            "Epoch 38/50\n",
            "484/484 [==============================] - 12s 26ms/step - loss: 0.7596 - accuracy: 0.7981\n",
            "Epoch 39/50\n",
            "484/484 [==============================] - 12s 26ms/step - loss: 0.7626 - accuracy: 0.7954\n",
            "Epoch 40/50\n",
            "484/484 [==============================] - 12s 25ms/step - loss: 0.7353 - accuracy: 0.8037\n",
            "Epoch 41/50\n",
            "484/484 [==============================] - 12s 26ms/step - loss: 0.6939 - accuracy: 0.8172\n",
            "Epoch 42/50\n",
            "484/484 [==============================] - 12s 26ms/step - loss: 0.6938 - accuracy: 0.8137\n",
            "Epoch 43/50\n",
            "484/484 [==============================] - 12s 26ms/step - loss: 0.6910 - accuracy: 0.8130\n",
            "Epoch 44/50\n",
            "484/484 [==============================] - 12s 26ms/step - loss: 0.6916 - accuracy: 0.8117\n",
            "Epoch 45/50\n",
            "484/484 [==============================] - 12s 25ms/step - loss: 0.6718 - accuracy: 0.8147\n",
            "Epoch 46/50\n",
            "484/484 [==============================] - 12s 26ms/step - loss: 0.6704 - accuracy: 0.8157\n",
            "Epoch 47/50\n",
            "484/484 [==============================] - 12s 26ms/step - loss: 0.6470 - accuracy: 0.8227\n",
            "Epoch 48/50\n",
            "484/484 [==============================] - 12s 26ms/step - loss: 0.6575 - accuracy: 0.8176\n",
            "Epoch 49/50\n",
            "484/484 [==============================] - 12s 26ms/step - loss: 0.6450 - accuracy: 0.8239\n",
            "Epoch 50/50\n",
            "484/484 [==============================] - 13s 26ms/step - loss: 0.6342 - accuracy: 0.8234\n"
          ],
          "name": "stdout"
        }
      ]
    },
    {
      "cell_type": "code",
      "metadata": {
        "colab_type": "code",
        "id": "1fXTEO3GJ282",
        "colab": {
          "base_uri": "https://localhost:8080/",
          "height": 545
        },
        "outputId": "2c31c2f6-8209-4af0-e77b-10db6e6fb38b"
      },
      "source": [
        "import matplotlib.pyplot as plt\n",
        "acc = history.history['accuracy']\n",
        "loss = history.history['loss']\n",
        "\n",
        "epochs = range(len(acc))\n",
        "\n",
        "plt.plot(epochs, acc, 'b', label='Training accuracy')\n",
        "plt.title('Training accuracy')\n",
        "\n",
        "plt.figure()\n",
        "\n",
        "plt.plot(epochs, loss, 'b', label='Training Loss')\n",
        "plt.title('Training loss')\n",
        "plt.legend()\n",
        "\n",
        "plt.show()"
      ],
      "execution_count": 15,
      "outputs": [
        {
          "output_type": "display_data",
          "data": {
            "image/png": "[encoded data removed]",
            "text/plain": [
              "<Figure size 432x288 with 1 Axes>"
            ]
          },
          "metadata": {
            "tags": [],
            "needs_background": "light"
          }
        },
        {
          "output_type": "display_data",
          "data": {
            "image/png": "[encoded data removed]",
            "text/plain": [
              "<Figure size 432x288 with 1 Axes>"
            ]
          },
          "metadata": {
            "tags": [],
            "needs_background": "light"
          }
        }
      ]
    },
    {
      "cell_type": "code",
      "metadata": {
        "colab_type": "code",
        "id": "6Vc6PHgxa6Hm",
        "colab": {
          "base_uri": "https://localhost:8080/",
          "height": 54
        },
        "outputId": "0be3602c-a86b-48ae-8b83-fbc356766974"
      },
      "source": [
        "seed_text = \"Help me Obi Wan Kenobi, you're my only hope\"\n",
        "next_words = 100\n",
        "  \n",
        "for _ in range(next_words):\n",
        "\ttoken_list = tokenizer.texts_to_sequences([seed_text])[0]\n",
        "\ttoken_list = pad_sequences([token_list], maxlen=max_sequence_len-1, padding='pre')\n",
        "\tpredicted = model.predict_classes(token_list, verbose=0)\n",
        "\toutput_word = \"\"\n",
        "\tfor word, index in tokenizer.word_index.items():\n",
        "\t\tif index == predicted:\n",
        "\t\t\toutput_word = word\n",
        "\t\t\tbreak\n",
        "\tseed_text += \" \" + output_word\n",
        "print(seed_text)"
      ],
      "execution_count": 16,
      "outputs": [
        {
          "output_type": "stream",
          "text": [
            "Help me Obi Wan Kenobi, you're my only hope to thee belongs to it light reap reap now feel you dearer eye that time doth lie on thee back so bold hell doth lie thee thee with me behold look you best ' be 'tis all so dear love doth give thee that her skill 'will ' be to thee bright thee bright untrue ruining none strife none strife press press press aside green me in doubt lie to thee so bold behold do lie me me the face thou end confound find it dead esteem'd deem faith more nothing new can slain bright untrue none ' away grow\n"
          ],
          "name": "stdout"
        }
      ]
    },
    {
      "cell_type": "code",
      "metadata": {
        "id": "qT8lMdAQ1leO",
        "colab_type": "code",
        "colab": {}
      },
      "source": [
        ""
      ],
      "execution_count": null,
      "outputs": []
    }
  ]
}